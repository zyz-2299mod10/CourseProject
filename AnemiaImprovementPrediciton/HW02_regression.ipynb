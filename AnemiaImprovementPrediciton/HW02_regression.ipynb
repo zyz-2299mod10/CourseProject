{
  "cells": [
    {
      "cell_type": "code",
      "execution_count": 51,
      "metadata": {
        "id": "sxUc7eWcPeZf"
      },
      "outputs": [],
      "source": [
        "import pandas as pd\n",
        "import numpy as np\n",
        "import seaborn as sns \n",
        "import matplotlib.pyplot as plt\n",
        "from sklearn.model_selection import train_test_split\n",
        "from sklearn.feature_selection import RFE, RFECV\n",
        "from sklearn.model_selection import GridSearchCV\n",
        "from sklearn.model_selection import RandomizedSearchCV\n",
        "from sklearn.model_selection import cross_val_score\n",
        "from sklearn.feature_selection import SelectFromModel\n",
        "from sklearn import preprocessing\n",
        "from sklearn.pipeline import make_pipeline\n",
        "from sklearn.preprocessing import PolynomialFeatures\n",
        "import math\n",
        "#-----------------model-----------------------\n",
        "from sklearn.svm import SVR\n",
        "from sklearn import linear_model\n",
        "from sklearn.linear_model import LinearRegression\n",
        "from xgboost.sklearn import XGBRegressor\n",
        "from sklearn.ensemble import GradientBoostingRegressor\n",
        "#---------------------------------------------\n",
        "from sklearn.metrics import explained_variance_score, mean_absolute_error, mean_squared_error, max_error, r2_score"
      ]
    },
    {
      "cell_type": "code",
      "source": [
        "def rfecv(model, x_train, y_train):\n",
        "  r = RFECV(estimator = model, step = 1, cv = 3, scoring = 'neg_mean_squared_error').fit(x_train, y_train)\n",
        "  print(\"Optimal number of features : %d\" % r.n_features_)\n",
        "  print(\"Support : %s\" % r.support_)\n",
        "  print(\"Ranking : %s\" % r.ranking_)\n",
        "\n",
        "  return r.n_features_, r.support_"
      ],
      "metadata": {
        "id": "WM_Rwz7U063f"
      },
      "execution_count": 2,
      "outputs": []
    },
    {
      "cell_type": "code",
      "source": [
        "def grid_search(model, param_grid, x_train, y_train):\n",
        "  optimal_paramas = GridSearchCV(\n",
        "      model,\n",
        "      param_grid,\n",
        "      cv = 3,\n",
        "      scoring = 'neg_mean_squared_error',\n",
        "      verbose = 1,\n",
        "      n_jobs = -1\n",
        "  )\n",
        "  optimal_paramas.fit(x_train, y_train)\n",
        "  print(optimal_paramas.best_params_)"
      ],
      "metadata": {
        "id": "rP-BmaM1QOPf"
      },
      "execution_count": 3,
      "outputs": []
    },
    {
      "cell_type": "code",
      "source": [
        "def PolynomialRegression(degree, **kwargs):\n",
        "    return make_pipeline(PolynomialFeatures(degree = degree), LinearRegression(**kwargs))"
      ],
      "metadata": {
        "id": "Xn7X3end_Rb9"
      },
      "execution_count": 4,
      "outputs": []
    },
    {
      "cell_type": "code",
      "source": [
        "def randomsearchCV(model, param, x_train, y_train):\n",
        "  optimal_paramas = RandomizedSearchCV(\n",
        "      model,\n",
        "      param,\n",
        "      cv = 3,\n",
        "      scoring = 'neg_mean_squared_error',\n",
        "      verbose = 1,\n",
        "      n_iter = 50,\n",
        "      n_jobs = -1\n",
        "  )\n",
        "  optimal_paramas.fit(x_train, y_train)\n",
        "  print(optimal_paramas.best_params_)"
      ],
      "metadata": {
        "id": "ypqLX9LoR_jw"
      },
      "execution_count": 5,
      "outputs": []
    },
    {
      "cell_type": "code",
      "source": [
        "def fs_embedded(model, threshold, x_train, y_train):\n",
        "  score = []\n",
        "  best_threshold = 0\n",
        "  best_score = 0\n",
        "  for i in threshold:\n",
        "    x_embedded = SelectFromModel(model, threshold = i).fit_transform(x_train, y_train)\n",
        "    mean_score = cross_val_score(model, x_embedded, y_train, cv = 5).mean()\n",
        "    score.append(mean_score)\n",
        "    if(mean_score > best_score): \n",
        "      best_score = mean_score\n",
        "      best_threshold = i\n",
        "  \n",
        "  print(best_threshold)\n",
        "  print(best_score)\n",
        "  plt.plot(threshold, score)\n",
        "  plt.show()"
      ],
      "metadata": {
        "id": "eh3UecaPBCZq"
      },
      "execution_count": 6,
      "outputs": []
    },
    {
      "cell_type": "code",
      "source": [
        "def regression_model_evaluation_result(train_X,train_Y,test_X,test_Y,model):\n",
        "    ''' Training Model, Evaluation, Indices\n",
        "    Args:\n",
        "        train_X: (pd.DataFrame) training data\n",
        "        train_Y: (pd.Series) labels of training data\n",
        "        test_X: (pd.DataFrame) test data\n",
        "        test_Y: (pd.Series) labels of test data\n",
        "        model: (scikit learn model) untrain model\n",
        "    Returns:\n",
        "        summary: (pd.DataFrame), \n",
        "        svr_train: (pd.DataFrame), \n",
        "        train_pred: (np.ndarray), \n",
        "        svr_test: (pd.DataFrame) , \n",
        "        test_pred: (np.ndarray), \n",
        "        model: (scikit learn model) trained model\n",
        "    '''\n",
        "    # Training and Prediction\n",
        "    model.fit(train_X, train_Y)\n",
        "    train_pred = model.predict(train_X)\n",
        "    \n",
        "\n",
        "    # Evaluation: Training\n",
        "    size, var_num = train_X.shape\n",
        "    train_R2 = r2_score(train_Y, train_pred)\n",
        "    train_adj_R2 = 1-(1-train_R2)*(size-1)/(size-var_num-1)\n",
        "    train_MAE = mean_absolute_error(train_Y, train_pred)\n",
        "    train_MSE = mean_squared_error(train_Y, train_pred)\n",
        "    train_RMSE = (train_MSE ** 0.5)\n",
        "    train_Max_error = max_error(train_Y, train_pred)\n",
        "    svr_train = pd.DataFrame(data = {\"actual values\":train_Y, \"predicted values\":train_pred})\n",
        "\n",
        "    # Prediction: Test\n",
        "    test_pred = model.predict(test_X)\n",
        "\n",
        "    # Evaluation: Test\n",
        "    test_R2 = r2_score(test_Y, test_pred)\n",
        "    test_adj_R2 = 1-(1-test_R2)*(size-1)/(size-var_num-1)\n",
        "    test_MAE = mean_absolute_error(test_Y, test_pred)\n",
        "    test_MSE = mean_squared_error(test_Y, test_pred)\n",
        "    test_RMSE = (test_MSE ** 0.5)\n",
        "    test_Max_error = max_error(test_Y, test_pred)\n",
        "    svr_test = pd.DataFrame(data = {\"actual values\":test_Y, \"predicted values\":test_pred})\n",
        "\n",
        "    # Summary\n",
        "    result = [{\"Max error\":train_Max_error, \"MAE\":train_MAE, \"MSE\":train_MSE, \"RMSE\":train_RMSE, \"R2\":train_R2, \"Adjusted R2\": train_adj_R2},\n",
        "                {\"Max error\":test_Max_error, \"MAE\":test_MAE, \"MSE\":test_MSE, \"RMSE\":test_RMSE, \"R2\":test_R2, \"Adjusted R2\": test_adj_R2}]\n",
        "\n",
        "    summary = pd.DataFrame(result)\n",
        "    summary.index = [\"Training\", \"Test\"]\n",
        "    summary.round(2)\n",
        "    print(summary)\n",
        "\n",
        "    return summary, svr_train, train_pred, svr_test, test_pred, model"
      ],
      "metadata": {
        "id": "b3VuFXVuCxVv"
      },
      "execution_count": 7,
      "outputs": []
    },
    {
      "cell_type": "code",
      "source": [
        "def actual_vs_predict(tr_act, tr_pre, te_act, te_pre):\n",
        "  #training\n",
        "  plt.figure(figsize=(5, 5))\n",
        "  plt.scatter(tr_act, tr_pre)\n",
        "  plt.plot([tr_act, tr_pre],[tr_act, tr_pre], 'r-')\n",
        "  plt.xlabel('actual Values ')\n",
        "  plt.ylabel('Predictions value ')\n",
        "  plt.axis('equal')\n",
        "  plt.axis('square')\n",
        "  plt.title('training')\n",
        "  \n",
        "  #test\n",
        "  plt.figure(figsize=(5, 5))\n",
        "  plt.scatter(tr_act, tr_pre)\n",
        "  plt.plot([te_act, te_pre],[te_act, te_pre], 'r-')\n",
        "  plt.xlabel('actual Values ')\n",
        "  plt.ylabel('Predictions value ')\n",
        "  plt.axis('equal')\n",
        "  plt.axis('square')\n",
        "  plt.title('test')"
      ],
      "metadata": {
        "id": "YIz7j5Vtg-m6"
      },
      "execution_count": 8,
      "outputs": []
    },
    {
      "cell_type": "code",
      "execution_count": 9,
      "metadata": {
        "id": "Ivl8YzLsPtwU"
      },
      "outputs": [],
      "source": [
        "df = pd.read_excel('dialysisRegression.xlsx')"
      ]
    },
    {
      "cell_type": "code",
      "execution_count": 11,
      "metadata": {
        "colab": {
          "base_uri": "https://localhost:8080/"
        },
        "id": "X2q3ouZ8Rn58",
        "outputId": "4b57fa86-f9c1-4a06-a722-6471026d9aeb"
      },
      "outputs": [
        {
          "output_type": "stream",
          "name": "stdout",
          "text": [
            "         d1     d2      d3   d4   d5   d6    d7   d8   d9   d10  ...    c43  \\\n",
            "0      1.61  1.710  1250.0  1.0  1.0  1.0  40.0  5.0  2.5  1250  ...  698.9   \n",
            "1      1.61  1.710  1250.0  1.0  1.0  1.0  40.0  5.0  2.5  1250  ...  698.9   \n",
            "2      1.61  1.710  1250.0  1.0  1.0  1.0  40.0  5.0  2.5  1250  ...  698.9   \n",
            "3      1.61  1.710  1250.0  1.0  1.0  1.0  40.0  5.0  2.5  1250  ...  698.9   \n",
            "4      1.61  1.710  1250.0  1.0  1.0  1.0  40.0  5.0  2.5  1250  ...  698.9   \n",
            "...     ...    ...     ...  ...  ...  ...   ...  ...  ...   ...  ...    ...   \n",
            "10264  1.61  1.715     0.0  1.0  1.0  1.0  20.0  1.0  2.5  1250  ...  260.8   \n",
            "10265  1.61  1.715     0.0  1.0  1.0  1.0  20.0  1.0  2.5  1250  ...  260.8   \n",
            "10266  1.61  1.715     0.0  1.0  1.0  1.0  20.0  1.0  2.5  1250  ...  260.8   \n",
            "10267  1.61  1.715     0.0  1.0  1.0  1.0  20.0  1.0  2.5  1250  ...  260.8   \n",
            "10268  1.61  1.715     0.0  1.0  1.0  1.0  20.0  1.0  2.5  1250  ...  260.8   \n",
            "\n",
            "         c44    c45   c46   c47   c48   c49    c50    c51  label  \n",
            "0      293.0  250.0  53.0  0.60  67.7  81.2  280.0  1.325  -0.47  \n",
            "1      293.0  250.0  53.0  0.60  67.7  81.2  280.0  1.100   0.70  \n",
            "2      293.0  250.0  53.0  0.60  67.7  81.2  280.0  1.050   0.70  \n",
            "3      293.0  250.0  53.0  0.60  67.7  81.2  280.0  1.100   0.70  \n",
            "4      293.0  250.0  53.0  0.60  67.7  81.2  280.0  1.100   0.60  \n",
            "...      ...    ...   ...   ...   ...   ...    ...    ...    ...  \n",
            "10264  118.0  244.0  43.0  1.25  55.7  84.0  265.0  3.750  -0.10  \n",
            "10265  118.0  244.0  43.0  1.25  55.7  84.0  265.0  3.750  -0.10  \n",
            "10266  118.0  244.0  43.0  1.25  55.7  84.0  265.0  3.750  -0.10  \n",
            "10267  118.0  244.0  43.0  1.25  55.7  84.0  265.0  3.750  -0.20  \n",
            "10268  118.0  244.0  43.0  1.25  55.7  84.0  265.0  3.750  -0.20  \n",
            "\n",
            "[10269 rows x 91 columns]\n"
          ]
        }
      ],
      "source": [
        "print(df)"
      ]
    },
    {
      "cell_type": "markdown",
      "source": [
        "**preprocession**"
      ],
      "metadata": {
        "id": "JCVjt_S50Ie1"
      }
    },
    {
      "cell_type": "code",
      "source": [
        "train_df, test_df = train_test_split(df, test_size = 0.3, random_state = 0)"
      ],
      "metadata": {
        "id": "zlXuVBUcsy_G"
      },
      "execution_count": 10,
      "outputs": []
    },
    {
      "cell_type": "code",
      "execution_count": 11,
      "metadata": {
        "colab": {
          "base_uri": "https://localhost:8080/",
          "height": 289
        },
        "id": "katqnXM1UKDk",
        "outputId": "33bcabe0-9422-48ec-f56c-36771fda4314"
      },
      "outputs": [
        {
          "output_type": "stream",
          "name": "stdout",
          "text": [
            "   features   pearson\n",
            "0        d1 -0.012247\n",
            "1        d2 -0.012945\n",
            "2        d3 -0.011087\n",
            "3        d4 -0.011846\n",
            "4        d5 -0.006813\n",
            "..      ...       ...\n",
            "86      c48 -0.003589\n",
            "87      c49 -0.022903\n",
            "88      c50  0.002657\n",
            "89      c51   0.00629\n",
            "90    label       1.0\n",
            "\n",
            "[91 rows x 2 columns]\n"
          ]
        },
        {
          "output_type": "display_data",
          "data": {
            "text/plain": [
              "<Figure size 576x4320 with 0 Axes>"
            ]
          },
          "metadata": {}
        }
      ],
      "source": [
        "plt.figure(figsize=(8,60))\n",
        "correlation_matrix = df.corr().loc[:,['label']]\n",
        "\n",
        "# annot = True 讓我們可以把數字標進每個格子裡\n",
        "#sns.heatmap(data=correlation_matrix, square = True, annot = True)\n",
        "\n",
        "ori_column = df.columns\n",
        "column_and_corr = pd.DataFrame([ori_column, correlation_matrix['label']]).T\n",
        "column_and_corr = column_and_corr.rename(columns = {0:'features', 1:'pearson'})\n",
        "print(column_and_corr)"
      ]
    },
    {
      "cell_type": "code",
      "source": [
        "prefeature = []\n",
        "\n",
        "for i in column_and_corr.iloc:\n",
        "  if(abs(i['pearson']) >= 0.005 and abs(i['pearson']) != 1): prefeature.append(i['features'])\n",
        "\n",
        "print(prefeature)\n",
        "print(len(prefeature))\n",
        "\n",
        "train_predata = train_df.loc[:, prefeature]\n",
        "test_predata = test_df.loc[:, prefeature]\n",
        "\n",
        "# print(train_predata)\n",
        "# print(test_predata)"
      ],
      "metadata": {
        "colab": {
          "base_uri": "https://localhost:8080/"
        },
        "id": "IT2z0MoZk1p1",
        "outputId": "4ff2a88f-6498-4b35-d009-695ab62d1456"
      },
      "execution_count": 12,
      "outputs": [
        {
          "output_type": "stream",
          "name": "stdout",
          "text": [
            "['d1', 'd2', 'd3', 'd4', 'd5', 'd6', 'd7', 'd8', 'd9', 'd12', 'd13', 'd14', 'd15', 'd17', 'd18', 'd20', 'd21', 'd22', 'd27', 'd28', 'd29', 'd31', 'd34', 'd35', 'd36', 'd37', 'd38', 'd39', 'c1', 'c2', 'c3', 'c4', 'c6', 'c7', 'c8', 'c9', 'c10', 'c12', 'c13', 'c14', 'c15', 'c16', 'c17', 'c18', 'c19', 'c20', 'c21', 'c22', 'c23', 'c25', 'c28', 'c29', 'c30', 'c31', 'c32', 'c33', 'c34', 'c35', 'c36', 'c37', 'c38', 'c39', 'c43', 'c44', 'c45', 'c46', 'c49', 'c51']\n",
            "68\n"
          ]
        }
      ]
    },
    {
      "cell_type": "code",
      "source": [
        "y_train = train_df.iloc[:, -1]\n",
        "y_test = test_df.iloc[:, -1]\n",
        "\n",
        "scaler_std = preprocessing.StandardScaler().fit(train_predata)\n",
        "x_pretrain_std = scaler_std.transform(train_predata)\n",
        "x_pretest_std = scaler_std.transform(test_predata)\n"
      ],
      "metadata": {
        "id": "epkKBb06ysER"
      },
      "execution_count": 13,
      "outputs": []
    },
    {
      "cell_type": "code",
      "source": [
        "# print(x_pretrain_std)\n",
        "# print(x_pretest_std)\n",
        "# print(y_train.shape)"
      ],
      "metadata": {
        "colab": {
          "base_uri": "https://localhost:8080/"
        },
        "id": "2jAvBYSkz7t5",
        "outputId": "6b001a45-6a73-4c77-8804-72fa44d1a9f1"
      },
      "execution_count": null,
      "outputs": [
        {
          "output_type": "stream",
          "name": "stdout",
          "text": [
            "(7188,)\n"
          ]
        }
      ]
    },
    {
      "cell_type": "markdown",
      "metadata": {
        "id": "2E1IM_zvNvAp"
      },
      "source": [
        "**SVR**"
      ]
    },
    {
      "cell_type": "code",
      "source": [
        "svr = SVR(kernel = 'linear')\n",
        "n_feature, selected = rfecv(svr, x_pretrain_std, y_train)"
      ],
      "metadata": {
        "colab": {
          "base_uri": "https://localhost:8080/"
        },
        "id": "Fu2QJzTfzJhl",
        "outputId": "f1502b07-e6ca-42ab-edaf-d432f66b1bb5"
      },
      "execution_count": null,
      "outputs": [
        {
          "output_type": "stream",
          "name": "stdout",
          "text": [
            "Optimal number of features : 47\n",
            "Support : [False  True False False  True False  True  True False False  True  True\n",
            "  True  True  True  True  True  True  True  True False  True  True  True\n",
            "  True False  True  True  True  True  True  True  True False False  True\n",
            "  True False  True  True  True  True  True  True False  True  True False\n",
            "  True False  True  True  True False False  True  True False  True  True\n",
            "  True False False  True False False  True  True]\n",
            "Ranking : [22  1 21 11  1 20  1  1 14 17  1  1  1  1  1  1  1  1  1  1  3  1  1  1\n",
            "  1 19  1  1  1  1  1  1  1  6 10  1  1 12  1  1  1  1  1  1  5  1  1  7\n",
            "  1  4  1  1  1  9 13  1  1 18  1  1  1 15  8  1  2 16  1  1]\n"
          ]
        }
      ]
    },
    {
      "cell_type": "code",
      "source": [
        "# selected = ['d2', 'd5', 'd7', 'd8', 'd13', 'd14', 'd15', 'd17', 'd18', 'd20', 'd21',\n",
        "#        'd22', 'd27', 'd28', 'd31', 'd34', 'd35', 'd36', 'd38', 'd39', 'c1',\n",
        "#        'c2', 'c3', 'c4', 'c6', 'c9', 'c10', 'c13', 'c14', 'c15', 'c16', 'c17',\n",
        "#        'c18', 'c20', 'c21', 'c23', 'c28', 'c29', 'c30', 'c33', 'c34', 'c36',\n",
        "#        'c37', 'c38', 'c44', 'c49', 'c51']"
      ],
      "metadata": {
        "id": "qYxAXPiFSWso"
      },
      "execution_count": 16,
      "outputs": []
    },
    {
      "cell_type": "code",
      "source": [
        "svr_train_data = train_predata.loc[:, selected]\n",
        "svr_test_data = test_predata.loc[:, selected]\n",
        "\n",
        "print(svr_train_data)"
      ],
      "metadata": {
        "colab": {
          "base_uri": "https://localhost:8080/"
        },
        "id": "cdlHfTmkJH1I",
        "outputId": "ab1931fa-62fa-4dfb-f7d3-34926b5176d9"
      },
      "execution_count": 17,
      "outputs": [
        {
          "output_type": "stream",
          "name": "stdout",
          "text": [
            "         d2   d5    d7   d8    d13   d14   d15  d17  d18    d20  ...  c29  \\\n",
            "7672  1.825  2.0  30.0  1.0  137.0  17.0  17.0    4  5.0  16.00  ...  4.1   \n",
            "8109  1.700  1.0  20.0  1.0  137.0  16.0  16.0    4  5.0  16.00  ...  3.7   \n",
            "5561  1.870  0.0  40.0  1.0  137.0  16.0  16.0    4  5.0  16.00  ...  5.4   \n",
            "4617  1.690  3.0  50.0  1.0  137.0  17.0  17.0    4  5.0  17.00  ...  3.9   \n",
            "3750  1.865  1.0  40.0  1.0  137.0  16.0  16.0    4  5.0  16.00  ...  6.0   \n",
            "...     ...  ...   ...  ...    ...   ...   ...  ...  ...    ...  ...  ...   \n",
            "9225  1.675  1.0  30.0  1.0  137.0  16.0  16.0    4  5.0  16.00  ...  4.7   \n",
            "4859  1.720  1.0  40.0  1.0  137.0  16.0  16.0    4  5.0  16.00  ...  3.3   \n",
            "3264  1.780  1.0  50.0  1.0  137.0  16.0  16.0    4  5.0  16.00  ...  4.5   \n",
            "9845  1.800  2.0  30.0  1.0  137.0  17.0  17.0    4  5.0  16.00  ...  4.5   \n",
            "2732  1.840  2.0  20.0  1.0  137.0  17.0  17.0    4  5.0  16.35  ...  4.3   \n",
            "\n",
            "       c30   c33   c34    c36    c37    c38    c44   c49     c51  \n",
            "7672  19.5   8.6  11.4   6.08  0.575  195.0  239.0  63.5  1.5250  \n",
            "8109  13.6   9.2  10.9  11.20  2.800  210.0  256.0  51.6  3.7500  \n",
            "5561  19.4  10.7  11.4   6.98  0.600  109.0  210.0  65.8  1.2750  \n",
            "4617  13.3   9.7  11.7   7.10  1.120  153.0  289.0  46.3  0.0000  \n",
            "3750  26.0   8.5  11.5   5.60  0.600  162.0  150.0  57.5  1.1500  \n",
            "...    ...   ...   ...    ...    ...    ...    ...   ...     ...  \n",
            "9225  12.9  10.1  10.5   6.60  0.800  175.0  417.0  47.6  1.5250  \n",
            "4859   8.2   9.4  11.7   5.40  0.600  147.0  345.0  49.6  1.2750  \n",
            "3264  20.2   8.4  11.1   5.60  0.575  147.0  223.0  56.8  1.7500  \n",
            "9845  19.4   9.8  11.2   7.80  0.800  123.0  263.0  59.2  1.5250  \n",
            "2732  15.4   9.9  11.8   6.00  2.010  103.0  108.0  57.0  2.8625  \n",
            "\n",
            "[7188 rows x 47 columns]\n"
          ]
        }
      ]
    },
    {
      "cell_type": "code",
      "source": [
        "svr_scaler_std = preprocessing.StandardScaler().fit(svr_train_data)\n",
        "svr_x_train_std = svr_scaler_std.transform(svr_train_data)\n",
        "svr_x_test_std = svr_scaler_std.transform(svr_test_data)"
      ],
      "metadata": {
        "id": "e1EWTFZdPjZB"
      },
      "execution_count": 18,
      "outputs": []
    },
    {
      "cell_type": "code",
      "source": [
        "param = {\n",
        "    'kernel': ['rbf'],\n",
        "    'C': [14, 16, 18, 20, 22],\n",
        "    'gamma': [0.01, 0.1, 0.125, 0.15, 1]\n",
        "}\n",
        "\n",
        "model = SVR()\n",
        "randomsearchCV(model, param, svr_x_train_std, y_train)"
      ],
      "metadata": {
        "colab": {
          "base_uri": "https://localhost:8080/"
        },
        "id": "EZoBoVj7JwF8",
        "outputId": "9eedc6d2-6f95-4fc3-938f-c40d6b2d4777"
      },
      "execution_count": null,
      "outputs": [
        {
          "output_type": "stream",
          "name": "stdout",
          "text": [
            "Fitting 3 folds for each of 10 candidates, totalling 30 fits\n",
            "{'kernel': 'rbf', 'gamma': 0.01, 'C': 22}\n"
          ]
        }
      ]
    },
    {
      "cell_type": "code",
      "source": [
        "param = {\n",
        "    'kernel': ['rbf'],\n",
        "    'C': [20, 22, 24, 25, 26],\n",
        "    'gamma': [0.01, 0.015, 0.025, 0.05, 0.1]\n",
        "}\n",
        "\n",
        "model = SVR()\n",
        "randomsearchCV(model, param, svr_x_train_std, y_train)"
      ],
      "metadata": {
        "colab": {
          "base_uri": "https://localhost:8080/"
        },
        "id": "B4-HwPFZMBlz",
        "outputId": "8883128a-f687-466d-cb59-b90f9bc8221a"
      },
      "execution_count": null,
      "outputs": [
        {
          "output_type": "stream",
          "name": "stdout",
          "text": [
            "Fitting 3 folds for each of 10 candidates, totalling 30 fits\n",
            "{'kernel': 'rbf', 'gamma': 0.015, 'C': 26}\n"
          ]
        }
      ]
    },
    {
      "cell_type": "code",
      "source": [
        "param = {\n",
        "    'kernel': ['rbf'],\n",
        "    'C': range(26, 36, 2),\n",
        "    'gamma': [0.015]\n",
        "}\n",
        "\n",
        "model = SVR()\n",
        "randomsearchCV(model, param, svr_x_train_std, y_train)"
      ],
      "metadata": {
        "colab": {
          "base_uri": "https://localhost:8080/"
        },
        "id": "ZAvtz0-OTj8b",
        "outputId": "b0b68d8d-03c8-4086-e07c-edf49b6073ad"
      },
      "execution_count": null,
      "outputs": [
        {
          "output_type": "stream",
          "name": "stdout",
          "text": [
            "Fitting 3 folds for each of 5 candidates, totalling 15 fits\n"
          ]
        },
        {
          "output_type": "stream",
          "name": "stderr",
          "text": [
            "/usr/local/lib/python3.7/dist-packages/sklearn/model_selection/_search.py:296: UserWarning: The total space of parameters 5 is smaller than n_iter=50. Running 5 iterations. For exhaustive searches, use GridSearchCV.\n",
            "  UserWarning,\n"
          ]
        },
        {
          "output_type": "stream",
          "name": "stdout",
          "text": [
            "{'kernel': 'rbf', 'gamma': 0.015, 'C': 32}\n"
          ]
        }
      ]
    },
    {
      "cell_type": "code",
      "source": [
        "svr_model=SVR(kernel = 'rbf',C = 32, gamma=0.015)\n",
        "df_svr, tr_predsc, tr_predlabel, te_predsc, te_predlabel, model = regression_model_evaluation_result(svr_x_train_std, y_train, svr_x_test_std, y_test, svr_model)\n",
        "actual_vs_predict(y_train, tr_predlabel, y_test, te_predlabel)"
      ],
      "metadata": {
        "colab": {
          "base_uri": "https://localhost:8080/",
          "height": 737
        },
        "id": "zC5l9DSgUXtD",
        "outputId": "d8bb8ea3-7cbe-482d-e7d5-bea8398587e5"
      },
      "execution_count": null,
      "outputs": [
        {
          "output_type": "stream",
          "name": "stdout",
          "text": [
            "          Max error       MAE       MSE      RMSE        R2  Adjusted R2\n",
            "Training   4.094848  0.251255  0.169342  0.411512  0.745184     0.743506\n",
            "Test       4.724600  0.376903  0.304595  0.551901  0.561360     0.558472\n"
          ]
        },
        {
          "output_type": "display_data",
          "data": {
            "text/plain": [
              "<Figure size 360x360 with 1 Axes>"
            ],
            "image/png": "[encoded data removed]"
          },
          "metadata": {
            "needs_background": "light"
          }
        },
        {
          "output_type": "display_data",
          "data": {
            "text/plain": [
              "<Figure size 360x360 with 1 Axes>"
            ],
            "image/png": "[encoded data removed]"
          },
          "metadata": {
            "needs_background": "light"
          }
        }
      ]
    },
    {
      "cell_type": "markdown",
      "metadata": {
        "id": "1dVv6IAWNnzB"
      },
      "source": [
        "**ElasticNet Regression**"
      ]
    },
    {
      "cell_type": "markdown",
      "source": [
        "rfecv"
      ],
      "metadata": {
        "id": "RSogFi-w5fEZ"
      }
    },
    {
      "cell_type": "code",
      "source": [
        "elastic_cv = linear_model.ElasticNetCV(cv= 5, random_state = 0, l1_ratio = 0.1)\n",
        "elastic_cv.fit(x_pretrain_std, y_train)\n",
        "\n",
        "print(elastic_cv.alpha_)"
      ],
      "metadata": {
        "colab": {
          "base_uri": "https://localhost:8080/"
        },
        "id": "LpJAtUnobbsK",
        "outputId": "6a01ef01-10db-4573-abb5-a50c068fc714"
      },
      "execution_count": 12,
      "outputs": [
        {
          "output_type": "stream",
          "name": "stdout",
          "text": [
            "0.00924179159763729\n"
          ]
        }
      ]
    },
    {
      "cell_type": "code",
      "source": [
        "en = elastic_model = linear_model.ElasticNet(alpha=0.00924179159763729,l1_ratio=0.1)\n",
        "n_feature, selected = rfecv(en, x_pretrain_std, y_train)"
      ],
      "metadata": {
        "colab": {
          "base_uri": "https://localhost:8080/"
        },
        "id": "UX7iviDS0TLU",
        "outputId": "4ee549be-7595-4953-8514-60e5ba00e5cf"
      },
      "execution_count": null,
      "outputs": [
        {
          "output_type": "stream",
          "name": "stdout",
          "text": [
            "Optimal number of features : 41\n",
            "Support : [ True False False False False  True False False False False  True  True\n",
            "  True  True  True False  True  True False  True  True  True  True  True\n",
            " False False  True False  True False  True False  True False False  True\n",
            "  True  True  True  True  True  True  True  True False  True  True False\n",
            " False False  True  True  True  True  True  True  True  True False  True\n",
            " False  True  True  True False False False False]\n",
            "Ranking : [ 1  6 13 23 18  1 22  5 21 16  1  1  1  1  1  9  1  1 14  1  1  1  1  1\n",
            " 28  2  1 26  1 25  1 12  1  4 27  1  1  1  1  1  1  1  1  1 11  1  1 20\n",
            "  7 17  1  1  1  1  1  1  1  1  8  1  3  1  1  1 10 19 24 15]\n"
          ]
        }
      ]
    },
    {
      "cell_type": "code",
      "source": [
        "en_train_data = train_predata.loc[:, selected]\n",
        "en_test_data = test_predata.loc[:, selected]\n",
        "\n",
        "print(en_train_data.columns)\n",
        "print(en_train_data)"
      ],
      "metadata": {
        "colab": {
          "base_uri": "https://localhost:8080/"
        },
        "id": "IHKe92LN3aHe",
        "outputId": "b8fb09e7-1ff4-474c-fb1d-699e6fac25a1"
      },
      "execution_count": null,
      "outputs": [
        {
          "output_type": "stream",
          "name": "stdout",
          "text": [
            "Index(['d1', 'd6', 'd13', 'd14', 'd15', 'd17', 'd18', 'd21', 'd22', 'd28',\n",
            "       'd29', 'd31', 'd34', 'd35', 'd38', 'c1', 'c3', 'c6', 'c9', 'c10', 'c12',\n",
            "       'c13', 'c14', 'c15', 'c16', 'c17', 'c18', 'c20', 'c21', 'c28', 'c29',\n",
            "       'c30', 'c31', 'c32', 'c33', 'c34', 'c35', 'c37', 'c39', 'c43', 'c44'],\n",
            "      dtype='object')\n",
            "         d1   d6    d13   d14   d15  d17  d18    d21  d22  d28  ...   c30  \\\n",
            "7672  1.740  1.0  137.0  17.0  17.0    4  5.0  16.00    2    2  ...  19.5   \n",
            "8109  1.600  1.0  137.0  16.0  16.0    4  5.0  16.00    4    2  ...  13.6   \n",
            "5561  1.770  0.5  137.0  16.0  16.0    4  5.0  16.00    4    2  ...  19.4   \n",
            "4617  1.600  1.0  137.0  17.0  17.0    4  5.0  17.00    2    1  ...  13.3   \n",
            "3750  1.760  0.5  137.0  16.0  16.0    4  5.0  16.00    2    2  ...  26.0   \n",
            "...     ...  ...    ...   ...   ...  ...  ...    ...  ...  ...  ...   ...   \n",
            "9225  1.600  1.0  137.0  16.0  16.0    4  5.0  16.00    4    2  ...  12.9   \n",
            "4859  1.600  0.5  137.0  16.0  16.0    4  5.0  16.00    2    2  ...   8.2   \n",
            "3264  1.680  1.0  137.0  16.0  16.0    4  5.0  16.00    3    2  ...  20.2   \n",
            "9845  1.600  1.0  137.0  17.0  17.0    4  5.0  16.00    5    2  ...  19.4   \n",
            "2732  1.735  1.0  137.0  17.0  17.0    4  5.0  16.35    4    2  ...  15.4   \n",
            "\n",
            "      c31    c32   c33   c34      c35    c37    c39     c43    c44  \n",
            "7672  4.0   74.0   8.6  11.4   3.5900  0.575  184.0   280.0  239.0  \n",
            "8109  3.8  540.0   9.2  10.9  10.4900  2.800   39.0   139.2  256.0  \n",
            "5561  4.3  154.0  10.7  11.4   7.0800  0.600  112.0  2134.8  210.0  \n",
            "4617  3.7   53.0   9.7  11.7   6.0395  1.120   63.0    26.6  289.0  \n",
            "3750  3.9   39.0   8.5  11.5   2.1400  0.600   24.0   103.3  150.0  \n",
            "...   ...    ...   ...   ...      ...    ...    ...     ...    ...  \n",
            "9225  3.9  195.0  10.1  10.5   3.5900  0.800  136.0  1379.1  417.0  \n",
            "4859  4.2   53.0   9.4  11.7   5.1200  0.600   77.0    24.0  345.0  \n",
            "3264  4.2   73.0   8.4  11.1   2.1400  0.575   59.0   201.4  223.0  \n",
            "9845  4.0   93.0   9.8  11.2   3.5900  0.800   52.0   582.9  263.0  \n",
            "2732  4.9  109.0   9.9  11.8   2.5500  2.010   74.0   704.3  108.0  \n",
            "\n",
            "[7188 rows x 41 columns]\n"
          ]
        }
      ]
    },
    {
      "cell_type": "code",
      "source": [
        "en_scaler_std = preprocessing.StandardScaler().fit(en_train_data)\n",
        "en_x_train_std = en_scaler_std.transform(en_train_data)\n",
        "en_x_test_std = en_scaler_std.transform(en_test_data)"
      ],
      "metadata": {
        "id": "WjDTxt913mtg"
      },
      "execution_count": null,
      "outputs": []
    },
    {
      "cell_type": "code",
      "source": [
        "elastic_cv = linear_model.ElasticNetCV(alphas = np.linspace(0.001, 1, 200), cv= 5, random_state = 0, l1_ratio = np.linspace(0.001, 1, 100))\n",
        "elastic_cv.fit(en_x_train_std, y_train)\n",
        "\n",
        "print(elastic_cv.alpha_)\n",
        "print(elastic_cv.l1_ratio_)"
      ],
      "metadata": {
        "colab": {
          "base_uri": "https://localhost:8080/"
        },
        "id": "5QKqb62h36vE",
        "outputId": "f088ee04-debc-4ca7-83bb-30dd177bdc56"
      },
      "execution_count": null,
      "outputs": [
        {
          "output_type": "stream",
          "name": "stdout",
          "text": [
            "0.006020100502512563\n",
            "0.001\n"
          ]
        }
      ]
    },
    {
      "cell_type": "code",
      "source": [
        "elastic_model = linear_model.ElasticNet(alpha=0.006020100502512563,l1_ratio=0.001)\n",
        "df_svr, tr_predsc, tr_predlabel, te_predsc, te_predlabel, model = regression_model_evaluation_result(en_x_train_std, y_train, en_x_test_std, y_test, elastic_model)\n",
        "actual_vs_predict(y_train, tr_predlabel, y_test, te_predlabel)"
      ],
      "metadata": {
        "colab": {
          "base_uri": "https://localhost:8080/",
          "height": 737
        },
        "id": "qqtCZyhX4pPA",
        "outputId": "e1ee1b6b-07ae-421a-cab3-961b316b22e1"
      },
      "execution_count": null,
      "outputs": [
        {
          "output_type": "stream",
          "name": "stdout",
          "text": [
            "          Max error       MAE       MSE      RMSE        R2  Adjusted R2\n",
            "Training   6.275080  0.530115  0.519546  0.720795  0.218219     0.213733\n",
            "Test       4.919666  0.543145  0.542386  0.736469  0.218921     0.214440\n"
          ]
        },
        {
          "output_type": "display_data",
          "data": {
            "text/plain": [
              "<Figure size 360x360 with 1 Axes>"
            ],
            "image/png": "[encoded data removed]"
          },
          "metadata": {
            "needs_background": "light"
          }
        },
        {
          "output_type": "display_data",
          "data": {
            "text/plain": [
              "<Figure size 360x360 with 1 Axes>"
            ],
            "image/png": "[encoded data removed]"
          },
          "metadata": {
            "needs_background": "light"
          }
        }
      ]
    },
    {
      "cell_type": "markdown",
      "source": [
        "embedded"
      ],
      "metadata": {
        "id": "82_Nyo686rUB"
      }
    },
    {
      "cell_type": "code",
      "source": [
        "elastic_cv = linear_model.ElasticNetCV(cv= 5, random_state = 0)\n",
        "elastic_cv.fit(x_pretrain_std, y_train)\n",
        "\n",
        "print(elastic_cv.alpha_)"
      ],
      "metadata": {
        "colab": {
          "base_uri": "https://localhost:8080/"
        },
        "id": "iUbkKSdWaOw7",
        "outputId": "fa5fbca6-ce42-4c8e-f452-a0543cbc9659"
      },
      "execution_count": null,
      "outputs": [
        {
          "output_type": "stream",
          "name": "stdout",
          "text": [
            "0.003713782536160237\n"
          ]
        }
      ]
    },
    {
      "cell_type": "code",
      "source": [
        "elastic_model = linear_model.ElasticNet(alpha=0.003713782536160237)\n",
        "elastic_model.fit(x_pretrain_std, y_train)\n",
        "\n",
        "threshold = []\n",
        "for i in elastic_model.coef_:\n",
        "  if(i != 0): threshold.append(i)\n",
        "\n",
        "preselected = np.array(elastic_model.coef_[:] != 0)\n",
        "en_train_predata = train_predata.loc[:, preselected]\n",
        "en_test_predata = test_predata.loc[:, preselected]\n",
        "threshold.sort()\n",
        "\n",
        "print(en_train_predata)"
      ],
      "metadata": {
        "colab": {
          "base_uri": "https://localhost:8080/"
        },
        "id": "N0nNRyXP17W6",
        "outputId": "72671306-7f68-4660-e92c-d94293969d43"
      },
      "execution_count": null,
      "outputs": [
        {
          "output_type": "stream",
          "name": "stdout",
          "text": [
            "         d1     d2      d3   d5   d6   d8    d13   d14   d15  d17  ...   c33  \\\n",
            "7672  1.740  1.825  1250.0  2.0  1.0  1.0  137.0  17.0  17.0    4  ...   8.6   \n",
            "8109  1.600  1.700  1000.0  1.0  1.0  1.0  137.0  16.0  16.0    4  ...   9.2   \n",
            "5561  1.770  1.870  1250.0  0.0  0.5  1.0  137.0  16.0  16.0    4  ...  10.7   \n",
            "4617  1.600  1.690     0.0  3.0  1.0  1.0  137.0  17.0  17.0    4  ...   9.7   \n",
            "3750  1.760  1.865  1000.0  1.0  0.5  1.0  137.0  16.0  16.0    4  ...   8.5   \n",
            "...     ...    ...     ...  ...  ...  ...    ...   ...   ...  ...  ...   ...   \n",
            "9225  1.600  1.675  1250.0  1.0  1.0  1.0  137.0  16.0  16.0    4  ...  10.1   \n",
            "4859  1.600  1.720   250.0  1.0  0.5  1.0  137.0  16.0  16.0    4  ...   9.4   \n",
            "3264  1.680  1.780  1250.0  1.0  1.0  1.0  137.0  16.0  16.0    4  ...   8.4   \n",
            "9845  1.600  1.800  1000.0  2.0  1.0  1.0  137.0  17.0  17.0    4  ...   9.8   \n",
            "2732  1.735  1.840  1250.0  2.0  1.0  1.0  137.0  17.0  17.0    4  ...   9.9   \n",
            "\n",
            "       c34      c35    c36    c37    c38    c39     c43    c44    c45  \n",
            "7672  11.4   3.5900   6.08  0.575  195.0  184.0   280.0  239.0  198.0  \n",
            "8109  10.9  10.4900  11.20  2.800  210.0   39.0   139.2  256.0  234.0  \n",
            "5561  11.4   7.0800   6.98  0.600  109.0  112.0  2134.8  210.0  223.0  \n",
            "4617  11.7   6.0395   7.10  1.120  153.0   63.0    26.6  289.0  181.0  \n",
            "3750  11.5   2.1400   5.60  0.600  162.0   24.0   103.3  150.0  203.0  \n",
            "...    ...      ...    ...    ...    ...    ...     ...    ...    ...  \n",
            "9225  10.5   3.5900   6.60  0.800  175.0  136.0  1379.1  417.0  192.0  \n",
            "4859  11.7   5.1200   5.40  0.600  147.0   77.0    24.0  345.0  183.0  \n",
            "3264  11.1   2.1400   5.60  0.575  147.0   59.0   201.4  223.0  205.0  \n",
            "9845  11.2   3.5900   7.80  0.800  123.0   52.0   582.9  263.0  206.0  \n",
            "2732  11.8   2.5500   6.00  2.010  103.0   74.0   704.3  108.0  276.0  \n",
            "\n",
            "[7188 rows x 54 columns]\n"
          ]
        }
      ]
    },
    {
      "cell_type": "code",
      "source": [
        "en_scaler_std = preprocessing.StandardScaler().fit(en_train_predata)\n",
        "en_x_pretrain_std = en_scaler_std.transform(en_train_predata)\n",
        "en_x_pretest_std = en_scaler_std.transform(en_test_predata)\n",
        "\n",
        "print(en_x_pretrain_std.shape)"
      ],
      "metadata": {
        "colab": {
          "base_uri": "https://localhost:8080/"
        },
        "id": "mDP3c505KHIm",
        "outputId": "d2bd2ce9-7311-4210-a177-be6af3b569ae"
      },
      "execution_count": null,
      "outputs": [
        {
          "output_type": "stream",
          "name": "stdout",
          "text": [
            "(7188, 54)\n"
          ]
        }
      ]
    },
    {
      "cell_type": "code",
      "source": [
        "fs_embedded(elastic_model, threshold, en_x_pretrain_std, y_train)"
      ],
      "metadata": {
        "colab": {
          "base_uri": "https://localhost:8080/",
          "height": 301
        },
        "id": "vMxSrd_EETg9",
        "outputId": "c232880f-9405-43cd-daf9-29db008ca091"
      },
      "execution_count": null,
      "outputs": [
        {
          "output_type": "stream",
          "name": "stdout",
          "text": [
            "0.012663678039826843\n",
            "0.20527094606474652\n"
          ]
        },
        {
          "output_type": "display_data",
          "data": {
            "text/plain": [
              "<Figure size 432x288 with 1 Axes>"
            ],
            "image/png": "[encoded data removed]"
          },
          "metadata": {
            "needs_background": "light"
          }
        }
      ]
    },
    {
      "cell_type": "code",
      "source": [
        "selected = np.array(elastic_model.coef_[:] >= 0.012663678039826843)\n",
        "\n",
        "# print(preselected)\n",
        "# print(selected)\n",
        "\n",
        "en_train_data = train_predata.loc[:, selected]\n",
        "en_test_data = test_predata.loc[:, selected]\n",
        "\n",
        "print(en_train_data)\n",
        "print(en_train_data.columns)\n",
        "\n",
        "en_scaler_std = preprocessing.StandardScaler().fit(en_train_data)\n",
        "en_x_train_std = en_scaler_std.transform(en_train_data)\n",
        "en_x_test_std = en_scaler_std.transform(en_test_data)"
      ],
      "metadata": {
        "colab": {
          "base_uri": "https://localhost:8080/"
        },
        "id": "ruaOB6AVS0EU",
        "outputId": "3b0c036f-6e74-4d0e-8628-8717cda82d3a"
      },
      "execution_count": null,
      "outputs": [
        {
          "output_type": "stream",
          "name": "stdout",
          "text": [
            "        d13  d18  d22  d28  d31  d35  d38   c3     c9   c10  c13   c17   c20  \\\n",
            "7672  137.0  5.0    2    2  5.0    1  1.0  2.3  160.0  65.0   30   0.0  33.7   \n",
            "8109  137.0  5.0    4    2  5.0    1  1.0  3.4  154.0  51.7   21   0.0  32.5   \n",
            "5561  137.0  5.0    4    2  5.0    1  1.0  2.5  168.0  68.0   10   0.0  33.9   \n",
            "4617  137.0  5.0    2    1  5.0    1  1.0  1.5  165.0  64.0   19  10.0  33.0   \n",
            "3750  137.0  5.0    2    2  5.0    1  1.0  3.0  169.0  59.1   10   0.0  32.2   \n",
            "...     ...  ...  ...  ...  ...  ...  ...  ...    ...   ...  ...   ...   ...   \n",
            "9225  137.0  5.0    4    2  5.0    1  1.0  3.0  154.0  46.6   10  25.0  34.5   \n",
            "4859  137.0  5.0    2    2  5.0    1  1.0  1.2  154.0  51.5   10   0.0  36.1   \n",
            "3264  137.0  5.0    3    2  5.0    1  1.0  3.0  160.0  56.3   30   0.0  33.0   \n",
            "9845  137.0  5.0    5    2  3.0    3  3.0  2.8  165.0  59.6   10  20.0  35.4   \n",
            "2732  137.0  5.0    4    2  5.0    1  1.0  1.8  165.0  63.4   10   0.0  35.9   \n",
            "\n",
            "        c21  c31      c35    c37     c43  \n",
            "7672  267.0  4.0   3.5900  0.575   280.0  \n",
            "8109  289.0  3.8  10.4900  2.800   139.2  \n",
            "5561  128.0  4.3   7.0800  0.600  2134.8  \n",
            "4617  138.0  3.7   6.0395  1.120    26.6  \n",
            "3750  168.0  3.9   2.1400  0.600   103.3  \n",
            "...     ...  ...      ...    ...     ...  \n",
            "9225  159.0  3.9   3.5900  0.800  1379.1  \n",
            "4859  212.0  4.2   5.1200  0.600    24.0  \n",
            "3264  161.0  4.2   2.1400  0.575   201.4  \n",
            "9845  167.0  4.0   3.5900  0.800   582.9  \n",
            "2732  296.0  4.9   2.5500  2.010   704.3  \n",
            "\n",
            "[7188 rows x 18 columns]\n",
            "Index(['d13', 'd18', 'd22', 'd28', 'd31', 'd35', 'd38', 'c3', 'c9', 'c10',\n",
            "       'c13', 'c17', 'c20', 'c21', 'c31', 'c35', 'c37', 'c43'],\n",
            "      dtype='object')\n"
          ]
        }
      ]
    },
    {
      "cell_type": "code",
      "source": [
        "l1_ratio = np.linspace(0.001, 1, 200)\n",
        "best_score = 0\n",
        "op_al = 0\n",
        "op_l1 = 0\n",
        "\n",
        "for j in l1_ratio:\n",
        "  elastic_cv = linear_model.ElasticNetCV(cv= 5, random_state = 0, l1_ratio = j)\n",
        "  elastic_cv.fit(en_x_train_std, y_train)\n",
        "\n",
        "  if(elastic_cv.score(en_x_train_std, y_train) > best_score):\n",
        "    op_al = elastic_cv.alpha_\n",
        "    op_l1 = j\n",
        "    best_score = elastic_cv.score(en_x_train_std, y_train)\n",
        "\n",
        "# print(elastic_cv.alpha_)\n",
        "# print(elastic_cv.l1_ratio_)\n",
        "print(op_al)\n",
        "print(op_l1)"
      ],
      "metadata": {
        "colab": {
          "base_uri": "https://localhost:8080/"
        },
        "id": "EzB7WdmHTXky",
        "outputId": "99aed6c3-fa6b-42b7-c48e-b799b3e307d4"
      },
      "execution_count": null,
      "outputs": [
        {
          "output_type": "stream",
          "name": "stdout",
          "text": [
            "0.056382243314452726\n",
            "0.006020100502512563\n"
          ]
        }
      ]
    },
    {
      "cell_type": "code",
      "source": [
        "elastic_model = linear_model.ElasticNet(alpha=0.056382243314452726,l1_ratio=0.006020100502512563)\n",
        "df_svr, tr_predsc, tr_predlabel, te_predsc, te_predlabel, model = regression_model_evaluation_result(en_x_train_std, y_train, en_x_test_std, y_test, elastic_model)\n",
        "actual_vs_predict(y_train, tr_predlabel, y_test, te_predlabel)"
      ],
      "metadata": {
        "colab": {
          "base_uri": "https://localhost:8080/",
          "height": 737
        },
        "id": "QADoR3ckgLpA",
        "outputId": "c574bd71-f9ea-4cc2-966a-2b6df71fa66e"
      },
      "execution_count": null,
      "outputs": [
        {
          "output_type": "stream",
          "name": "stdout",
          "text": [
            "          Max error       MAE       MSE      RMSE        R2  Adjusted R2\n",
            "Training   6.971826  0.575437  0.625859  0.791113  0.058245     0.055880\n",
            "Test       5.247022  0.583615  0.648949  0.805574  0.065462     0.063116\n"
          ]
        },
        {
          "output_type": "display_data",
          "data": {
            "text/plain": [
              "<Figure size 360x360 with 1 Axes>"
            ],
            "image/png": "[encoded data removed]"
          },
          "metadata": {
            "needs_background": "light"
          }
        },
        {
          "output_type": "display_data",
          "data": {
            "text/plain": [
              "<Figure size 360x360 with 1 Axes>"
            ],
            "image/png": "[encoded data removed]"
          },
          "metadata": {
            "needs_background": "light"
          }
        }
      ]
    },
    {
      "cell_type": "markdown",
      "source": [
        "用原數據"
      ],
      "metadata": {
        "id": "Tw4X10RlVYxv"
      }
    },
    {
      "cell_type": "code",
      "source": [
        "X_train = train_df.iloc[:,0:-1]\n",
        "X_test = test_df.iloc[:,0:-1]\n",
        "\n",
        "scaler_Std = preprocessing.StandardScaler().fit(X_train)\n",
        "X_train_Std = scaler_Std.transform(X_train)\n",
        "X_test_Std = scaler_Std.transform(X_test)"
      ],
      "metadata": {
        "id": "rt0g4luRJUv9"
      },
      "execution_count": null,
      "outputs": []
    },
    {
      "cell_type": "code",
      "source": [
        "elastic_cv = linear_model.ElasticNetCV(cv= 5, random_state = 0)\n",
        "elastic_cv.fit(X_train_Std, y_train)\n",
        "\n",
        "print(elastic_cv.alpha_)"
      ],
      "metadata": {
        "colab": {
          "base_uri": "https://localhost:8080/"
        },
        "id": "V3lDeWpSJbVk",
        "outputId": "3f373308-b9e4-45c3-b0f3-5406d7be628e"
      },
      "execution_count": null,
      "outputs": [
        {
          "output_type": "stream",
          "name": "stdout",
          "text": [
            "0.0018483583195274581\n"
          ]
        }
      ]
    },
    {
      "cell_type": "code",
      "source": [
        "elastic_model = linear_model.ElasticNet(alpha=0.0018483583195274581)\n",
        "elastic_model.fit(X_train_Std, y_train)\n",
        "\n",
        "threshold = []\n",
        "for i in elastic_model.coef_:\n",
        "  if(i != 0): threshold.append(i)\n",
        "\n",
        "preselected = np.array(elastic_model.coef_[:] != 0)\n",
        "en_train_predata = X_train.loc[:, preselected]\n",
        "en_test_predata = X_test.loc[:, preselected]\n",
        "threshold.sort()\n",
        "\n",
        "print(en_train_predata)"
      ],
      "metadata": {
        "colab": {
          "base_uri": "https://localhost:8080/"
        },
        "id": "b5nBU1CtJpKT",
        "outputId": "2e165b54-e6c6-495c-a83a-8eaac32f64dd"
      },
      "execution_count": null,
      "outputs": [
        {
          "output_type": "stream",
          "name": "stdout",
          "text": [
            "         d1     d2      d3   d4   d5   d6    d7   d8   d9    d11  ...  c40  \\\n",
            "7672  1.740  1.825  1250.0  0.0  2.0  1.0  30.0  1.0  3.5    0.0  ...  9.9   \n",
            "8109  1.600  1.700  1000.0  1.0  1.0  1.0  20.0  1.0  2.5  500.0  ...  6.1   \n",
            "5561  1.770  1.870  1250.0  1.0  0.0  0.5  40.0  1.0  2.5    0.0  ...  6.4   \n",
            "4617  1.600  1.690     0.0  0.0  3.0  1.0  50.0  1.0  3.0    0.0  ...  5.9   \n",
            "3750  1.760  1.865  1000.0  1.0  1.0  0.5  40.0  1.0  3.0  250.0  ...  7.1   \n",
            "...     ...    ...     ...  ...  ...  ...   ...  ...  ...    ...  ...  ...   \n",
            "9225  1.600  1.675  1250.0  2.0  1.0  1.0  30.0  1.0  2.5    0.0  ...  6.0   \n",
            "4859  1.600  1.720   250.0  1.0  1.0  0.5  40.0  1.0  3.0  250.0  ...  7.5   \n",
            "3264  1.680  1.780  1250.0  0.0  1.0  1.0  50.0  1.0  3.5    0.0  ...  2.6   \n",
            "9845  1.600  1.800  1000.0  1.0  2.0  1.0  30.0  1.0  2.5  500.0  ...  4.8   \n",
            "2732  1.735  1.840  1250.0  2.0  2.0  1.0  20.0  1.0  2.5  750.0  ...  7.5   \n",
            "\n",
            "        c41     c43    c44    c45   c46   c47   c49    c50     c51  \n",
            "7672  33.00   280.0  239.0  198.0  68.0  0.20  63.5  297.5  1.5250  \n",
            "8109  76.00   139.2  256.0  234.0  45.0  1.70  51.6  280.0  3.7500  \n",
            "5561  33.00  2134.8  210.0  223.0  78.0  0.20  65.8  150.0  1.2750  \n",
            "4617  24.00    26.6  289.0  181.0  62.0  0.50  46.3  280.0  0.0000  \n",
            "3750  33.00   103.3  150.0  203.0  38.0  0.20  57.5  280.0  1.1500  \n",
            "...     ...     ...    ...    ...   ...   ...   ...    ...     ...  \n",
            "9225  33.00  1379.1  417.0  192.0  57.0  0.20  47.6  280.0  1.5250  \n",
            "4859  35.00    24.0  345.0  183.0  55.0  0.20  49.6  280.0  1.2750  \n",
            "3264  33.00   201.4  223.0  205.0  57.0  0.20  56.8  280.0  1.7500  \n",
            "9845  33.00   582.9  263.0  206.0  63.0  0.20  59.2  280.0  1.5250  \n",
            "2732  58.15   704.3  108.0  276.0  51.0  1.25  57.0  280.0  2.8625  \n",
            "\n",
            "[7188 rows x 80 columns]\n"
          ]
        }
      ]
    },
    {
      "cell_type": "code",
      "source": [
        "en_scaler_std = preprocessing.StandardScaler().fit(en_train_predata)\n",
        "en_x_pretrain_std = en_scaler_std.transform(en_train_predata)\n",
        "en_x_pretest_std = en_scaler_std.transform(en_test_predata)\n",
        "\n",
        "print(en_x_pretrain_std)"
      ],
      "metadata": {
        "colab": {
          "base_uri": "https://localhost:8080/"
        },
        "id": "QTQ3kmg__seR",
        "outputId": "3439dc48-5d41-47b6-81f8-c7ea0439e493"
      },
      "execution_count": null,
      "outputs": [
        {
          "output_type": "stream",
          "name": "stdout",
          "text": [
            "[[ 1.74562542  1.47624685  1.03377891 ...  0.19776482  0.89761937\n",
            "   0.11710674]\n",
            " [-0.71116987 -0.52424753  0.51937096 ... -0.65999492  0.28372948\n",
            "   2.39812738]\n",
            " [ 2.27208155  2.19642483  1.03377891 ...  0.36355031 -4.27659545\n",
            "  -0.13918771]\n",
            " ...\n",
            " [ 0.69271315  0.75606887  1.03377891 ... -0.28517554  0.28372948\n",
            "   0.34777175]\n",
            " [-0.71116987  1.07614797  0.51937096 ... -0.11218198  0.28372948\n",
            "   0.11710674]\n",
            " [ 1.65788273  1.71630618  1.03377891 ... -0.27075941  0.28372948\n",
            "   1.48828207]]\n"
          ]
        }
      ]
    },
    {
      "cell_type": "code",
      "source": [
        "fs_embedded(elastic_model, threshold, en_x_pretrain_std, y_train)"
      ],
      "metadata": {
        "colab": {
          "base_uri": "https://localhost:8080/",
          "height": 301
        },
        "id": "urRFrN1HcYag",
        "outputId": "35120822-450e-4dc5-9b52-1b971460140e"
      },
      "execution_count": null,
      "outputs": [
        {
          "output_type": "stream",
          "name": "stdout",
          "text": [
            "0.017962027494725835\n",
            "0.2199295314466923\n"
          ]
        },
        {
          "output_type": "display_data",
          "data": {
            "text/plain": [
              "<Figure size 432x288 with 1 Axes>"
            ],
            "image/png": "[encoded data removed]"
          },
          "metadata": {
            "needs_background": "light"
          }
        }
      ]
    },
    {
      "cell_type": "code",
      "source": [
        "selected = np.array(elastic_model.coef_[:] >= 0.017962027494725835)\n",
        "en_train_data = X_train.loc[:, selected]\n",
        "en_test_data = X_test.loc[:, selected]\n",
        "\n",
        "en_scaler_std = preprocessing.StandardScaler().fit(en_train_data)\n",
        "en_x_train_std = en_scaler_std.transform(en_train_data)\n",
        "en_x_test_std = en_scaler_std.transform(en_test_data)\n",
        "\n",
        "print(en_train_data.columns)"
      ],
      "metadata": {
        "colab": {
          "base_uri": "https://localhost:8080/"
        },
        "id": "SZDI7SpNdFgA",
        "outputId": "e696cad9-4d68-4edc-d837-b73250332909"
      },
      "execution_count": null,
      "outputs": [
        {
          "output_type": "stream",
          "name": "stdout",
          "text": [
            "Index(['d7', 'd9', 'd11', 'd13', 'd18', 'd22', 'd23', 'd24', 'd28', 'd29',\n",
            "       'd32', 'd33', 'd35', 'd37', 'd38', 'c3', 'c10', 'c14', 'c17', 'c20',\n",
            "       'c21', 'c22', 'c27', 'c31', 'c35', 'c37', 'c41', 'c43', 'c50'],\n",
            "      dtype='object')\n"
          ]
        }
      ]
    },
    {
      "cell_type": "code",
      "source": [
        "l1_ratio = np.linspace(0.0001, 1, 200)\n",
        "best_R2 = 0\n",
        "alpha = 0\n",
        "best_l1_ratio = 0\n",
        "\n",
        "for i in l1_ratio:\n",
        "  elastic_cv = linear_model.ElasticNetCV(cv= 5, random_state = 0, l1_ratio = i)\n",
        "  elastic_cv.fit(en_x_train_std, y_train)\n",
        "\n",
        "  if(elastic_cv.score(en_x_train_std, y_train) > best_R2):\n",
        "    alpha = elastic_cv.alpha_\n",
        "    best_l1_ratio = i\n",
        "    best_R2 = elastic_cv.score(en_x_train_std, y_train)\n",
        "\n",
        "print(alpha)\n",
        "print(best_l1_ratio)"
      ],
      "metadata": {
        "colab": {
          "base_uri": "https://localhost:8080/"
        },
        "id": "lPP9lY4Mhb28",
        "outputId": "f76212b2-a059-42ce-f54b-012663c57978"
      },
      "execution_count": null,
      "outputs": [
        {
          "output_type": "stream",
          "name": "stdout",
          "text": [
            "0.05760737700131587\n",
            "0.00512462311557789\n"
          ]
        }
      ]
    },
    {
      "cell_type": "code",
      "source": [
        "elastic_model = linear_model.ElasticNet(alpha=0.05760737700131587,l1_ratio=0.00512462311557789)\n",
        "df_svr, tr_predsc, tr_predlabel, te_predsc, te_predlabel, model = regression_model_evaluation_result(en_x_train_std, y_train, en_x_test_std, y_test, elastic_model)\n",
        "actual_vs_predict(y_train, tr_predlabel, y_test, te_predlabel)"
      ],
      "metadata": {
        "colab": {
          "base_uri": "https://localhost:8080/",
          "height": 737
        },
        "id": "-nivBlJtOgSH",
        "outputId": "6d9d512d-fd00-44de-98b3-a4e81558ff7f"
      },
      "execution_count": null,
      "outputs": [
        {
          "output_type": "stream",
          "name": "stdout",
          "text": [
            "          Max error       MAE       MSE      RMSE        R2  Adjusted R2\n",
            "Training   6.951352  0.573209  0.620954  0.788006  0.065627     0.061841\n",
            "Test       5.171857  0.585134  0.651122  0.806921  0.062333     0.058534\n"
          ]
        },
        {
          "output_type": "display_data",
          "data": {
            "text/plain": [
              "<Figure size 360x360 with 1 Axes>"
            ],
            "image/png": "[encoded data removed]"
          },
          "metadata": {
            "needs_background": "light"
          }
        },
        {
          "output_type": "display_data",
          "data": {
            "text/plain": [
              "<Figure size 360x360 with 1 Axes>"
            ],
            "image/png": "[encoded data removed]"
          },
          "metadata": {
            "needs_background": "light"
          }
        }
      ]
    },
    {
      "cell_type": "markdown",
      "metadata": {
        "id": "UyKEbd_aNeSZ"
      },
      "source": [
        "**Linear Regression**"
      ]
    },
    {
      "cell_type": "code",
      "source": [
        "lr = LinearRegression()\n",
        "n_feature, selected = rfecv(lr, x_pretrain_std, y_train)"
      ],
      "metadata": {
        "id": "GyZy9-NxkmVc",
        "colab": {
          "base_uri": "https://localhost:8080/"
        },
        "outputId": "123cd555-c02c-4454-e90a-608618040f43"
      },
      "execution_count": 26,
      "outputs": [
        {
          "output_type": "stream",
          "name": "stdout",
          "text": [
            "Optimal number of features : 45\n",
            "Support : [ True False False False False False False  True False False  True  True\n",
            "  True  True  True False  True  True  True  True  True  True  True  True\n",
            "  True  True  True  True  True  True  True False  True False False  True\n",
            "  True  True  True  True  True  True  True  True False  True  True False\n",
            " False False  True  True False  True  True  True  True False False  True\n",
            "  True False  True  True False False  True False]\n",
            "Ranking : [ 1  5 13 17 23  2 20  1 18 12  1  1  1  1  1 15  1  1  1  1  1  1  1  1\n",
            "  1  1  1  1  1  1  1 14  1  6 19  1  1  1  1  1  1  1  1  1 16  1  1 22\n",
            " 11 24  1  1  9  1  1  1  1  7 10  1  1  4  1  1  8 21  1  3]\n"
          ]
        }
      ]
    },
    {
      "cell_type": "code",
      "source": [
        "lr_train_data = train_predata.loc[:, selected]\n",
        "lr_test_data = test_predata.loc[:, selected]"
      ],
      "metadata": {
        "id": "VrIXFt3Jux1F"
      },
      "execution_count": 29,
      "outputs": []
    },
    {
      "cell_type": "code",
      "source": [
        "lr_scaler_std = preprocessing.StandardScaler().fit(lr_train_data)\n",
        "lr_x_train_std = lr_scaler_std.transform(lr_train_data)\n",
        "lr_x_test_std = lr_scaler_std.transform(lr_test_data)"
      ],
      "metadata": {
        "id": "yYHzDcdkvPHW"
      },
      "execution_count": 30,
      "outputs": []
    },
    {
      "cell_type": "code",
      "source": [
        "param = {\n",
        "    'fit_intercept': ['True', 'False']\n",
        "}\n",
        "\n",
        "model = LinearRegression()\n",
        "grid_search(model, param, lr_x_train_std, y_train)"
      ],
      "metadata": {
        "colab": {
          "base_uri": "https://localhost:8080/"
        },
        "id": "2-TurLZkvZl-",
        "outputId": "0b140f1c-54e7-4f89-bf76-13b5218e8b9c"
      },
      "execution_count": 32,
      "outputs": [
        {
          "output_type": "stream",
          "name": "stdout",
          "text": [
            "Fitting 3 folds for each of 2 candidates, totalling 6 fits\n",
            "{'fit_intercept': 'True'}\n"
          ]
        }
      ]
    },
    {
      "cell_type": "code",
      "source": [
        "lr_model=LinearRegression(fit_intercept = True)\n",
        "df_svr, tr_predsc, tr_predlabel, te_predsc, te_predlabel, model = regression_model_evaluation_result(lr_x_train_std, y_train, lr_x_test_std, y_test, lr_model)\n",
        "actual_vs_predict(y_train, tr_predlabel, y_test, te_predlabel)"
      ],
      "metadata": {
        "colab": {
          "base_uri": "https://localhost:8080/",
          "height": 737
        },
        "id": "O9gMND3myduq",
        "outputId": "da5586ae-bd99-4d2f-8a2a-cfd102be0154"
      },
      "execution_count": 49,
      "outputs": [
        {
          "output_type": "stream",
          "name": "stdout",
          "text": [
            "          Max error       MAE       MSE      RMSE        R2  Adjusted R2\n",
            "Training   6.202603  0.530613  0.521481  0.722136  0.215307     0.210363\n",
            "Test       4.929116  0.544234  0.545206  0.738381  0.214860     0.209913\n"
          ]
        },
        {
          "output_type": "display_data",
          "data": {
            "text/plain": [
              "<Figure size 360x360 with 1 Axes>"
            ],
            "image/png": "[encoded data removed]"
          },
          "metadata": {
            "needs_background": "light"
          }
        },
        {
          "output_type": "display_data",
          "data": {
            "text/plain": [
              "<Figure size 360x360 with 1 Axes>"
            ],
            "image/png": "[encoded data removed]"
          },
          "metadata": {
            "needs_background": "light"
          }
        }
      ]
    },
    {
      "cell_type": "markdown",
      "metadata": {
        "id": "PvSCvfDQNgNw"
      },
      "source": [
        "**XGBoost Regressor**"
      ]
    },
    {
      "cell_type": "code",
      "source": [
        "xgbr = XGBRegressor(objective='reg:squarederror')\n",
        "n_feature, selected = rfecv(xgbr, x_pretrain_std, y_train)"
      ],
      "metadata": {
        "colab": {
          "base_uri": "https://localhost:8080/"
        },
        "id": "hDx3LFfRXWUD",
        "outputId": "b262e161-203c-4e5a-f560-482e120b27ab"
      },
      "execution_count": 17,
      "outputs": [
        {
          "output_type": "stream",
          "name": "stdout",
          "text": [
            "Optimal number of features : 49\n",
            "Support : [ True  True False  True False  True  True  True  True False  True  True\n",
            " False False False False False  True False  True  True  True  True False\n",
            " False False False False  True  True  True  True  True False False  True\n",
            "  True  True  True False False  True  True  True  True  True  True  True\n",
            "  True  True  True  True  True  True  True  True  True  True  True  True\n",
            "  True  True  True  True  True  True False  True]\n",
            "Ranking : [ 1  1  6  1  5  1  1  1  1  9  1  1 14 16 18 17  2  1 11  1  1  1  1  7\n",
            "  3  8  4 12  1  1  1  1  1 20 19  1  1  1  1 15 13  1  1  1  1  1  1  1\n",
            "  1  1  1  1  1  1  1  1  1  1  1  1  1  1  1  1  1  1 10  1]\n"
          ]
        }
      ]
    },
    {
      "cell_type": "code",
      "source": [
        "xgb_train_data = train_predata.loc[:, selected]\n",
        "xgb_test_data = test_predata.loc[:, selected]"
      ],
      "metadata": {
        "id": "J2gdo7x7YDHE"
      },
      "execution_count": 18,
      "outputs": []
    },
    {
      "cell_type": "code",
      "source": [
        "# print(xgb_train_data.columns)"
      ],
      "metadata": {
        "colab": {
          "base_uri": "https://localhost:8080/"
        },
        "id": "3xo5jFD5gcB4",
        "outputId": "dd258f45-1f9a-4288-d387-ba5d35f22806"
      },
      "execution_count": 25,
      "outputs": [
        {
          "output_type": "stream",
          "name": "stdout",
          "text": [
            "Index(['d1', 'd2', 'd4', 'd6', 'd7', 'd8', 'd9', 'd13', 'd14', 'd22', 'd28',\n",
            "       'd29', 'd31', 'd34', 'c1', 'c2', 'c3', 'c4', 'c6', 'c9', 'c10', 'c12',\n",
            "       'c13', 'c16', 'c17', 'c18', 'c19', 'c20', 'c21', 'c22', 'c23', 'c25',\n",
            "       'c28', 'c29', 'c30', 'c31', 'c32', 'c33', 'c34', 'c35', 'c36', 'c37',\n",
            "       'c38', 'c39', 'c43', 'c44', 'c45', 'c46', 'c51'],\n",
            "      dtype='object')\n"
          ]
        }
      ]
    },
    {
      "cell_type": "code",
      "source": [
        "xgb_scaler_std = preprocessing.StandardScaler().fit(xgb_train_data)\n",
        "xgb_x_train_std = xgb_scaler_std.transform(xgb_train_data)\n",
        "xgb_x_test_std = xgb_scaler_std.transform(xgb_test_data)"
      ],
      "metadata": {
        "id": "Cv55W7nIYH7T"
      },
      "execution_count": 20,
      "outputs": []
    },
    {
      "cell_type": "code",
      "source": [
        "param = {\n",
        "    'eta':np.linspace(0.01, 0.2, 10),\n",
        "    'gamma':np.linspace(0.001, 30, 40),\n",
        "    'max_depth':range(3, 11)\n",
        "}\n",
        "\n",
        "xgbr = XGBRegressor(objective='reg:squarederror')\n",
        "randomsearchCV(xgbr, param, xgb_x_train_std, y_train)"
      ],
      "metadata": {
        "colab": {
          "base_uri": "https://localhost:8080/"
        },
        "id": "DeUvhBV-YjvM",
        "outputId": "31e6828c-2fd9-4222-9ab6-5fe492809a9a"
      },
      "execution_count": 22,
      "outputs": [
        {
          "output_type": "stream",
          "name": "stdout",
          "text": [
            "Fitting 3 folds for each of 50 candidates, totalling 150 fits\n",
            "{'max_depth': 9, 'gamma': 0.7702051282051282, 'eta': 0.01}\n"
          ]
        }
      ]
    },
    {
      "cell_type": "code",
      "source": [
        "xgbr_model=XGBRegressor(max_depth = 9, gamma = 0.7702051282051282, eta = 0.01, objective='reg:squarederror')\n",
        "df_svr, tr_predsc, tr_predlabel, te_predsc, te_predlabel, model = regression_model_evaluation_result(xgb_x_train_std, y_train, xgb_x_test_std, y_test, xgbr_model)\n",
        "actual_vs_predict(y_train, tr_predlabel, y_test, te_predlabel)"
      ],
      "metadata": {
        "colab": {
          "base_uri": "https://localhost:8080/",
          "height": 737
        },
        "id": "w7f8UEMZa6WP",
        "outputId": "1ddaaf1d-a528-4ce2-f536-9babc18e575f"
      },
      "execution_count": 24,
      "outputs": [
        {
          "output_type": "stream",
          "name": "stdout",
          "text": [
            "          Max error       MAE       MSE      RMSE        R2  Adjusted R2\n",
            "Training   1.868687  0.229118  0.088433  0.297377  0.866931     0.866018\n",
            "Test       6.378789  0.343489  0.243542  0.493500  0.649280     0.646873\n"
          ]
        },
        {
          "output_type": "display_data",
          "data": {
            "text/plain": [
              "<Figure size 360x360 with 1 Axes>"
            ],
            "image/png": "[encoded data removed]"
          },
          "metadata": {
            "needs_background": "light"
          }
        },
        {
          "output_type": "display_data",
          "data": {
            "text/plain": [
              "<Figure size 360x360 with 1 Axes>"
            ],
            "image/png": "[encoded data removed]"
          },
          "metadata": {
            "needs_background": "light"
          }
        }
      ]
    },
    {
      "cell_type": "markdown",
      "metadata": {
        "id": "Hn52uuxINyaK"
      },
      "source": [
        "**GradientBoostingRegressor**"
      ]
    },
    {
      "cell_type": "code",
      "source": [
        "gbr = GradientBoostingRegressor()\n",
        "n_feature, selected = rfecv(gbr, x_pretrain_std, y_train)"
      ],
      "metadata": {
        "colab": {
          "base_uri": "https://localhost:8080/"
        },
        "outputId": "4f420363-88d5-4ca8-8408-116005aa093b",
        "id": "D_yUQ7NeoU3N"
      },
      "execution_count": 47,
      "outputs": [
        {
          "output_type": "stream",
          "name": "stdout",
          "text": [
            "Optimal number of features : 25\n",
            "Support : [False False False False False False False False False False False False\n",
            " False False False False False  True False False False False False False\n",
            " False False False False  True  True  True False  True False False False\n",
            " False False False False False  True False  True  True  True  True  True\n",
            " False  True False False  True  True  True  True  True  True False  True\n",
            " False  True  True  True  True  True  True False]\n",
            "Ranking : [10 22 32  3 18 17 26 31 16 30  2 13 40 44 41 36 29  1 25 27 23 33 34 37\n",
            " 38 19 43 42  1  1  1 14  1 28 24 21  6 20  5 35 39  1  9  1  1  1  1  1\n",
            " 11  1 12  8  1  1  1  1  1  1  4  1  7  1  1  1  1  1  1 15]\n"
          ]
        }
      ]
    },
    {
      "cell_type": "code",
      "source": [
        "gbr_train_data = train_predata.loc[:, selected]\n",
        "gbr_test_data = test_predata.loc[:, selected]"
      ],
      "metadata": {
        "id": "Af_Xv51WoU3O"
      },
      "execution_count": 48,
      "outputs": []
    },
    {
      "cell_type": "code",
      "source": [
        "# print(gbr_train_data.columns)"
      ],
      "metadata": {
        "colab": {
          "base_uri": "https://localhost:8080/"
        },
        "id": "V-h5dGoBv2U-",
        "outputId": "a37a4d00-7ad3-4f4f-e878-4e97255eff56"
      },
      "execution_count": 55,
      "outputs": [
        {
          "output_type": "stream",
          "name": "stdout",
          "text": [
            "Index(['d22', 'c1', 'c2', 'c3', 'c6', 'c16', 'c18', 'c19', 'c20', 'c21', 'c22',\n",
            "       'c25', 'c30', 'c31', 'c32', 'c33', 'c34', 'c35', 'c37', 'c39', 'c43',\n",
            "       'c44', 'c45', 'c46', 'c49'],\n",
            "      dtype='object')\n"
          ]
        }
      ]
    },
    {
      "cell_type": "code",
      "source": [
        "gbr_scaler_std = preprocessing.StandardScaler().fit(gbr_train_data)\n",
        "gbr_x_train_std = gbr_scaler_std.transform(gbr_train_data)\n",
        "gbr_x_test_std = gbr_scaler_std.transform(gbr_test_data)"
      ],
      "metadata": {
        "id": "nfQmhe4DoU3O"
      },
      "execution_count": 50,
      "outputs": []
    },
    {
      "cell_type": "code",
      "source": [
        "param = {\n",
        "    'loss':['squared_error', 'absolute_error', 'huber', 'quantile'],\n",
        "    'learning_rate':np.linspace(0.01, 2, 10),\n",
        "    'n_estimators': range(1, 100, 10)\n",
        "}\n",
        "\n",
        "gbr = GradientBoostingRegressor()\n",
        "randomsearchCV(gbr, param, xgb_x_train_std, y_train)"
      ],
      "metadata": {
        "colab": {
          "base_uri": "https://localhost:8080/"
        },
        "outputId": "3d9d6f4c-958f-450b-cc1a-927948df83ba",
        "id": "tm39flCyoU3O"
      },
      "execution_count": 53,
      "outputs": [
        {
          "output_type": "stream",
          "name": "stdout",
          "text": [
            "Fitting 3 folds for each of 50 candidates, totalling 150 fits\n",
            "{'n_estimators': 71, 'loss': 'huber', 'learning_rate': 0.45222222222222225}\n"
          ]
        }
      ]
    },
    {
      "cell_type": "code",
      "source": [
        "gbr_model=GradientBoostingRegressor(n_estimators = 71, loss = 'huber', learning_rate = 0.45222222222222225)\n",
        "df_svr, tr_predsc, tr_predlabel, te_predsc, te_predlabel, model = regression_model_evaluation_result(gbr_x_train_std, y_train, gbr_x_test_std, y_test, gbr_model)\n",
        "actual_vs_predict(y_train, tr_predlabel, y_test, te_predlabel)"
      ],
      "metadata": {
        "colab": {
          "base_uri": "https://localhost:8080/",
          "height": 737
        },
        "outputId": "5cef7051-f308-4a23-cbbb-aa416a6c52c3",
        "id": "SaNvQZ-BoU3O"
      },
      "execution_count": 54,
      "outputs": [
        {
          "output_type": "stream",
          "name": "stdout",
          "text": [
            "          Max error       MAE       MSE      RMSE        R2  Adjusted R2\n",
            "Training   4.426517  0.378671  0.282507  0.531514  0.574901     0.573417\n",
            "Test       4.768897  0.433931  0.367432  0.606162  0.470869     0.469022\n"
          ]
        },
        {
          "output_type": "display_data",
          "data": {
            "text/plain": [
              "<Figure size 360x360 with 1 Axes>"
            ],
            "image/png": "[encoded data removed]"
          },
          "metadata": {
            "needs_background": "light"
          }
        },
        {
          "output_type": "display_data",
          "data": {
            "text/plain": [
              "<Figure size 360x360 with 1 Axes>"
            ],
            "image/png": "[encoded data removed]"
          },
          "metadata": {
            "needs_background": "light"
          }
        }
      ]
    },
    {
      "cell_type": "code",
      "source": [
        "from joblib import dump, load"
      ],
      "metadata": {
        "id": "Pys1eqBLw7tp"
      },
      "execution_count": 56,
      "outputs": []
    },
    {
      "cell_type": "code",
      "source": [
        "dump(xgbr_model, 'regression.joblib')"
      ],
      "metadata": {
        "colab": {
          "base_uri": "https://localhost:8080/"
        },
        "id": "rS9JnHplw9bX",
        "outputId": "85549765-d2c6-4c93-9561-ad5eb8b835f6"
      },
      "execution_count": 59,
      "outputs": [
        {
          "output_type": "execute_result",
          "data": {
            "text/plain": [
              "['regression.joblib']"
            ]
          },
          "metadata": {},
          "execution_count": 59
        }
      ]
    },
    {
      "cell_type": "code",
      "source": [
        "test_model = load('regression.joblib')"
      ],
      "metadata": {
        "id": "F6Ck5dVLxSUI"
      },
      "execution_count": 60,
      "outputs": []
    },
    {
      "cell_type": "markdown",
      "source": [
        "存特徵"
      ],
      "metadata": {
        "id": "W4Ac4CjZx0D4"
      }
    },
    {
      "cell_type": "code",
      "source": [
        "from google.colab import drive\n",
        "drive.mount('/content/drive')"
      ],
      "metadata": {
        "colab": {
          "base_uri": "https://localhost:8080/"
        },
        "id": "2zq4a5VOxu7-",
        "outputId": "7b5442b3-0b8a-4be9-b05f-350c705360aa"
      },
      "execution_count": 63,
      "outputs": [
        {
          "output_type": "stream",
          "name": "stdout",
          "text": [
            "Mounted at /content/drive\n"
          ]
        }
      ]
    },
    {
      "cell_type": "code",
      "source": [
        "xgb_train_data.to_csv('/content/drive/MyDrive/features_regression.csv')"
      ],
      "metadata": {
        "id": "Pnfj4P6Ixe6u"
      },
      "execution_count": 64,
      "outputs": []
    }
  ],
  "metadata": {
    "colab": {
      "provenance": []
    },
    "kernelspec": {
      "display_name": "Python 3",
      "name": "python3"
    },
    "language_info": {
      "name": "python"
    }
  },
  "nbformat": 4,
  "nbformat_minor": 0
}